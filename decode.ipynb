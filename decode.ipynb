{
 "cells": [
  {
   "cell_type": "code",
   "execution_count": 30,
   "metadata": {},
   "outputs": [],
   "source": [
    "from azure.identity import DefaultAzureCredential\n",
    "from azure.keyvault.secrets import SecretClient\n",
    "import os\n",
    "import azure.cognitiveservices.speech as speechsdk\n",
    "from pydub import AudioSegment\n",
    "\n",
    "# Azure Key Vault URL\n",
    "vault_url = \"https://smartcallkey.vault.azure.net/\"\n",
    "\n",
    "# Create an instance of the secret client\n",
    "credential = DefaultAzureCredential()\n",
    "client = SecretClient(vault_url=vault_url, credential=credential)\n",
    "# speech_key= client.get_secret(\"speech-key\").value\n",
    "class SpeechWorker:\n",
    "    speech_key =\"d7491e71ad04765a20926ae1dc05c3e\"\n",
    "\n",
    "    def recognize_once(self, filename) -> str:\n",
    "            # Load mp3\n",
    "            audio = AudioSegment.from_mp3(filename)\n",
    "            # Export as wav\n",
    "            audio.export(\"audio.wav\", format=\"wav\")\n",
    "            audio_config = speechsdk.audio.AudioConfig(filename=\"audio.wav\")\n",
    "            speech_config = speechsdk.SpeechConfig(subscription=\"ad7491e71ad04765a20926ae1dc05c3e\", region=\"westeurope\")\n",
    "            speech_config.speech_recognition_language=\"pt-PT\"\n",
    "            speech_recognizer = speechsdk.SpeechRecognizer(speech_config=speech_config, audio_config=audio_config)\n",
    "\n",
    "            call=\"\"\n",
    "\n",
    "            while True:\n",
    "                out=speech_recognizer.recognize_once()\n",
    "                #print(out.text)\n",
    "                if out.reason!=speechsdk.ResultReason.RecognizedSpeech:\n",
    "                    break\n",
    "                call= call + \" \\n \" + out.text\n",
    "                yield out.text\n",
    "    \n",
    "\n",
    "\n"
   ]
  },
  {
   "cell_type": "code",
   "execution_count": null,
   "metadata": {},
   "outputs": [],
   "source": []
  }
 ],
 "metadata": {
  "kernelspec": {
   "display_name": "Python 3.8.5 ('base')",
   "language": "python",
   "name": "python3"
  },
  "language_info": {
   "codemirror_mode": {
    "name": "ipython",
    "version": 3
   },
   "file_extension": ".py",
   "mimetype": "text/x-python",
   "name": "python",
   "nbconvert_exporter": "python",
   "pygments_lexer": "ipython3",
   "version": "3.8.5"
  },
  "orig_nbformat": 4,
  "vscode": {
   "interpreter": {
    "hash": "69271730d6736d2cc01d4121fae666ad40c39097a5a32702d1520d9a21edd540"
   }
  }
 },
 "nbformat": 4,
 "nbformat_minor": 2
}
