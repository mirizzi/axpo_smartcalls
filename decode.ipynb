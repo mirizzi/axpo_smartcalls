{
 "cells": [
  {
   "cell_type": "code",
   "execution_count": 1,
   "metadata": {},
   "outputs": [],
   "source": [
    "from azure.identity import DefaultAzureCredential\n",
    "from azure.keyvault.secrets import SecretClient\n",
    "import os\n",
    "import azure.cognitiveservices.speech as speechsdk\n",
    "from pydub import AudioSegment\n",
    "\n",
    "# Azure Key Vault URL\n",
    "vault_url = \"https://smartcallkey.vault.azure.net/\"\n",
    "\n",
    "# Create an instance of the secret client\n",
    "credential = DefaultAzureCredential()\n",
    "client = SecretClient(vault_url=vault_url, credential=credential)\n",
    "# speech_key= client.get_secret(\"speech-key\").value\n",
    "speech_key =\"d7491e71ad04765a20926ae1dc05c3e\"\n",
    "\n"
   ]
  },
  {
   "cell_type": "code",
   "execution_count": 2,
   "metadata": {},
   "outputs": [
    {
     "data": {
      "text/plain": [
       "<_io.BufferedRandom name='audio.wav'>"
      ]
     },
     "execution_count": 2,
     "metadata": {},
     "output_type": "execute_result"
    }
   ],
   "source": [
    "# Load mp3\n",
    "audio = AudioSegment.from_mp3(\"audio/Goldenergy_Customer_Support_Call.mp3\")\n",
    "# Export as wav\n",
    "audio.export(\"audio.wav\", format=\"wav\")"
   ]
  },
  {
   "cell_type": "code",
   "execution_count": 3,
   "metadata": {},
   "outputs": [],
   "source": [
    "audio_config = speechsdk.audio.AudioConfig(filename=\"audio.wav\")\n",
    "speech_config = speechsdk.SpeechConfig(subscription=\"ad7491e71ad04765a20926ae1dc05c3e\", region=\"westeurope\")\n",
    "speech_config.speech_recognition_language=\"pt-PT\"\n",
    "speech_recognizer = speechsdk.SpeechRecognizer(speech_config=speech_config, audio_config=audio_config)\n",
    "\n",
    "call=\"\"\n"
   ]
  },
  {
   "cell_type": "code",
   "execution_count": 4,
   "metadata": {},
   "outputs": [
    {
     "name": "stdout",
     "output_type": "stream",
     "text": [
      "Boa tarde fala Vanessa Gonçalves, da Goldener gente vocês darem?\n",
      "Há muito tarde aqui, fala a Patrícia Figueiredo. Olhe, eu fiz um contrato com vocês no início do do mês. Mim, no entanto, é necessitava de na altura, fiz um pedido da potência de 3 45 a queria saber se poderia aumentar, por favor.\n",
      "A Senhora pode me indicar o número de contribuinte associado ao contrato? Claro, 239.\n",
      "Sim.\n",
      "5400 855 e o seu nome por favor.\n",
      "Diga.\n",
      "Pode me indicar o seu nome? Sim Ana Patrícia padrão Figueiredo.\n",
      "E a morada com o Código Postal?\n",
      "A rua do azenha número 3, 3080 845 Figueira da Foz.\n",
      "Muito obrigado em relação ao seu número de telemóvel, mantém-se mesmo.\n",
      "Sim sim, sim.\n",
      "Obrigado ia pra alterar então a potência correto?\n",
      "Sim.\n",
      "Eu verifico que tenho 3 45, quero alterar pra que potência com aqueles para os 2 patamares a seguir.\n",
      "4.6 e 5, ponto 75.\n",
      "Esta é a melhor. Já os 5 a altura do pós 5 ponto 65 eu dizendo agora que quero daqui a quanto tempo é que efetivamente fico?\n",
      "Com com com essa potência?\n",
      "Pode durar entre 2 dias, no máximo 2 dias. Recebo alguma Mensagem a dizer, certo, tá? Ou se a recebe uma Mensagem com a informação de quando é que vai ser feita a alteração, a Data e hora, OK é? É uma coisa remotamente.\n",
      "Ok.\n",
      "Ai feita remotamente sim, OK, pronto a só mais uma questão é.\n",
      "Esta diferença de potência, mim vai ter um valor acrescido de quanto na fatura fora ao consumo, claro.\n",
      "Ora, deixa-me só verificar. A Senhora tem uma campanha digital 22.\n",
      "Dígito 22.\n",
      "Não conheci 2 com débito direto e fatura electrónica.\n",
      "Sim antes estava zero 30, agora vai alterar para zero 50. Em relação ao quilowatt, vai manter o mesmo.\n",
      "Então esse zero 30 vai passar para zero 50 e de quê é a potência contratada?\n",
      "Pai, mas isso é o valor mensal que eu pago, é isso?\n",
      "É o valor ao dia? Sim.\n",
      "Ela é uma boa CIA.\n",
      "Ok OK é certíssimo pronto, então eu gostaria de fazer e pedido pra próxima.\n",
      "65 por favor sim, eu peço que aguarde mente por favor. Obrigado assim colar.\n",
      "\n"
     ]
    }
   ],
   "source": [
    "while True:\n",
    "    out=speech_recognizer.recognize_once()\n",
    "    print(out.text)\n",
    "    if out.reason!=speechsdk.ResultReason.RecognizedSpeech:\n",
    "        break\n",
    "    call= call + \" \\n \" + out.text\n",
    "\n",
    "\n"
   ]
  },
  {
   "cell_type": "code",
   "execution_count": null,
   "metadata": {},
   "outputs": [],
   "source": [
    "call"
   ]
  },
  {
   "cell_type": "code",
   "execution_count": 5,
   "metadata": {},
   "outputs": [
    {
     "data": {
      "text/plain": [
       "0"
      ]
     },
     "execution_count": 5,
     "metadata": {},
     "output_type": "execute_result"
    }
   ],
   "source": [
    "out.reason.value"
   ]
  },
  {
   "cell_type": "code",
   "execution_count": null,
   "metadata": {},
   "outputs": [],
   "source": []
  }
 ],
 "metadata": {
  "kernelspec": {
   "display_name": "Python 3.8.5 ('base')",
   "language": "python",
   "name": "python3"
  },
  "language_info": {
   "codemirror_mode": {
    "name": "ipython",
    "version": 3
   },
   "file_extension": ".py",
   "mimetype": "text/x-python",
   "name": "python",
   "nbconvert_exporter": "python",
   "pygments_lexer": "ipython3",
   "version": "3.8.5"
  },
  "orig_nbformat": 4,
  "vscode": {
   "interpreter": {
    "hash": "69271730d6736d2cc01d4121fae666ad40c39097a5a32702d1520d9a21edd540"
   }
  }
 },
 "nbformat": 4,
 "nbformat_minor": 2
}
